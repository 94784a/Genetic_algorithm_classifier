{
  "nbformat": 4,
  "nbformat_minor": 0,
  "metadata": {
    "colab": {
      "name": "IRis_GA_Classifier final",
      "provenance": [],
      "collapsed_sections": []
    },
    "kernelspec": {
      "name": "python3",
      "display_name": "Python 3"
    }
  },
  "cells": [
    {
      "cell_type": "markdown",
      "metadata": {
        "id": "FUj5b62bm3f0"
      },
      "source": [
        "#Import librairies:"
      ]
    },
    {
      "cell_type": "code",
      "metadata": {
        "id": "GEBKMKyHl99g"
      },
      "source": [
        "import pandas as pd\n",
        "import numpy as np\n",
        "\n",
        "from pprint import pprint\n",
        "from tqdm.auto import tqdm\n",
        "from matplotlib import pyplot as plt\n",
        "\n",
        "from sklearn.model_selection import train_test_split\n",
        "from sklearn.metrics import accuracy_score, confusion_matrix, ConfusionMatrixDisplay\n",
        "\n",
        "from itertools import cycle\n",
        "from sklearn.metrics import roc_curve, auc\n",
        "from sklearn.metrics import RocCurveDisplay\n",
        "import matplotlib.pyplot as plt\n",
        "\n",
        "from sklearn.metrics import precision_recall_curve\n",
        "from sklearn.metrics import PrecisionRecallDisplay"
      ],
      "execution_count": null,
      "outputs": []
    },
    {
      "cell_type": "markdown",
      "metadata": {
        "id": "HDfQK1zCm6qh"
      },
      "source": [
        "#Import Data:"
      ]
    },
    {
      "cell_type": "markdown",
      "metadata": {
        "id": "pOoezpqCn7wo"
      },
      "source": [
        "#### Read CSV file:"
      ]
    },
    {
      "cell_type": "code",
      "metadata": {
        "id": "fCmeGEexmSzh"
      },
      "source": [
        "file = 'iris.csv'\n",
        "df = pd.read_csv(file)"
      ],
      "execution_count": null,
      "outputs": []
    },
    {
      "cell_type": "code",
      "metadata": {
        "colab": {
          "base_uri": "https://localhost:8080/",
          "height": 424
        },
        "id": "ifyHvhmEnKNt",
        "outputId": "5757d14b-16bd-4615-fc72-a52ac85390ef"
      },
      "source": [
        "df"
      ],
      "execution_count": null,
      "outputs": [
        {
          "output_type": "execute_result",
          "data": {
            "text/html": [
              "<div>\n",
              "<style scoped>\n",
              "    .dataframe tbody tr th:only-of-type {\n",
              "        vertical-align: middle;\n",
              "    }\n",
              "\n",
              "    .dataframe tbody tr th {\n",
              "        vertical-align: top;\n",
              "    }\n",
              "\n",
              "    .dataframe thead th {\n",
              "        text-align: right;\n",
              "    }\n",
              "</style>\n",
              "<table border=\"1\" class=\"dataframe\">\n",
              "  <thead>\n",
              "    <tr style=\"text-align: right;\">\n",
              "      <th></th>\n",
              "      <th>SepalLength</th>\n",
              "      <th>SepalWidth</th>\n",
              "      <th>PetalLength</th>\n",
              "      <th>PetalWidth</th>\n",
              "      <th>Class</th>\n",
              "    </tr>\n",
              "  </thead>\n",
              "  <tbody>\n",
              "    <tr>\n",
              "      <th>0</th>\n",
              "      <td>5.1</td>\n",
              "      <td>3.5</td>\n",
              "      <td>1.4</td>\n",
              "      <td>0.2</td>\n",
              "      <td>Iris-setosa</td>\n",
              "    </tr>\n",
              "    <tr>\n",
              "      <th>1</th>\n",
              "      <td>4.9</td>\n",
              "      <td>3.0</td>\n",
              "      <td>1.4</td>\n",
              "      <td>0.2</td>\n",
              "      <td>Iris-setosa</td>\n",
              "    </tr>\n",
              "    <tr>\n",
              "      <th>2</th>\n",
              "      <td>4.7</td>\n",
              "      <td>3.2</td>\n",
              "      <td>1.3</td>\n",
              "      <td>0.2</td>\n",
              "      <td>Iris-setosa</td>\n",
              "    </tr>\n",
              "    <tr>\n",
              "      <th>3</th>\n",
              "      <td>4.6</td>\n",
              "      <td>3.1</td>\n",
              "      <td>1.5</td>\n",
              "      <td>0.2</td>\n",
              "      <td>Iris-setosa</td>\n",
              "    </tr>\n",
              "    <tr>\n",
              "      <th>4</th>\n",
              "      <td>5.0</td>\n",
              "      <td>3.6</td>\n",
              "      <td>1.4</td>\n",
              "      <td>0.2</td>\n",
              "      <td>Iris-setosa</td>\n",
              "    </tr>\n",
              "    <tr>\n",
              "      <th>...</th>\n",
              "      <td>...</td>\n",
              "      <td>...</td>\n",
              "      <td>...</td>\n",
              "      <td>...</td>\n",
              "      <td>...</td>\n",
              "    </tr>\n",
              "    <tr>\n",
              "      <th>145</th>\n",
              "      <td>6.7</td>\n",
              "      <td>3.0</td>\n",
              "      <td>5.2</td>\n",
              "      <td>2.3</td>\n",
              "      <td>Iris-virginica</td>\n",
              "    </tr>\n",
              "    <tr>\n",
              "      <th>146</th>\n",
              "      <td>6.3</td>\n",
              "      <td>2.5</td>\n",
              "      <td>5.0</td>\n",
              "      <td>1.9</td>\n",
              "      <td>Iris-virginica</td>\n",
              "    </tr>\n",
              "    <tr>\n",
              "      <th>147</th>\n",
              "      <td>6.5</td>\n",
              "      <td>3.0</td>\n",
              "      <td>5.2</td>\n",
              "      <td>2.0</td>\n",
              "      <td>Iris-virginica</td>\n",
              "    </tr>\n",
              "    <tr>\n",
              "      <th>148</th>\n",
              "      <td>6.2</td>\n",
              "      <td>3.4</td>\n",
              "      <td>5.4</td>\n",
              "      <td>2.3</td>\n",
              "      <td>Iris-virginica</td>\n",
              "    </tr>\n",
              "    <tr>\n",
              "      <th>149</th>\n",
              "      <td>5.9</td>\n",
              "      <td>3.0</td>\n",
              "      <td>5.1</td>\n",
              "      <td>1.8</td>\n",
              "      <td>Iris-virginica</td>\n",
              "    </tr>\n",
              "  </tbody>\n",
              "</table>\n",
              "<p>150 rows × 5 columns</p>\n",
              "</div>"
            ],
            "text/plain": [
              "     SepalLength   SepalWidth   PetalLength   PetalWidth           Class\n",
              "0            5.1          3.5           1.4          0.2     Iris-setosa\n",
              "1            4.9          3.0           1.4          0.2     Iris-setosa\n",
              "2            4.7          3.2           1.3          0.2     Iris-setosa\n",
              "3            4.6          3.1           1.5          0.2     Iris-setosa\n",
              "4            5.0          3.6           1.4          0.2     Iris-setosa\n",
              "..           ...          ...           ...          ...             ...\n",
              "145          6.7          3.0           5.2          2.3  Iris-virginica\n",
              "146          6.3          2.5           5.0          1.9  Iris-virginica\n",
              "147          6.5          3.0           5.2          2.0  Iris-virginica\n",
              "148          6.2          3.4           5.4          2.3  Iris-virginica\n",
              "149          5.9          3.0           5.1          1.8  Iris-virginica\n",
              "\n",
              "[150 rows x 5 columns]"
            ]
          },
          "metadata": {
            "tags": []
          },
          "execution_count": 6
        }
      ]
    },
    {
      "cell_type": "markdown",
      "metadata": {
        "id": "gqhmiqwwnDBb"
      },
      "source": [
        "#### Data treatement:\n"
      ]
    },
    {
      "cell_type": "markdown",
      "metadata": {
        "id": "Q6DurQfFnVyP"
      },
      "source": [
        "###### Make class as hot vectors"
      ]
    },
    {
      "cell_type": "code",
      "metadata": {
        "id": "qNKOJFc9nIvW"
      },
      "source": [
        "df = pd.get_dummies(df)"
      ],
      "execution_count": null,
      "outputs": []
    },
    {
      "cell_type": "code",
      "metadata": {
        "colab": {
          "base_uri": "https://localhost:8080/",
          "height": 461
        },
        "id": "B35-I7I2nddF",
        "outputId": "dd095235-98b4-4df5-f223-dd61fe58a0f9"
      },
      "source": [
        "df"
      ],
      "execution_count": null,
      "outputs": [
        {
          "output_type": "execute_result",
          "data": {
            "text/html": [
              "<div>\n",
              "<style scoped>\n",
              "    .dataframe tbody tr th:only-of-type {\n",
              "        vertical-align: middle;\n",
              "    }\n",
              "\n",
              "    .dataframe tbody tr th {\n",
              "        vertical-align: top;\n",
              "    }\n",
              "\n",
              "    .dataframe thead th {\n",
              "        text-align: right;\n",
              "    }\n",
              "</style>\n",
              "<table border=\"1\" class=\"dataframe\">\n",
              "  <thead>\n",
              "    <tr style=\"text-align: right;\">\n",
              "      <th></th>\n",
              "      <th>SepalLength</th>\n",
              "      <th>SepalWidth</th>\n",
              "      <th>PetalLength</th>\n",
              "      <th>PetalWidth</th>\n",
              "      <th>Class_Iris-setosa</th>\n",
              "      <th>Class_Iris-versicolor</th>\n",
              "      <th>Class_Iris-virginica</th>\n",
              "    </tr>\n",
              "  </thead>\n",
              "  <tbody>\n",
              "    <tr>\n",
              "      <th>0</th>\n",
              "      <td>5.1</td>\n",
              "      <td>3.5</td>\n",
              "      <td>1.4</td>\n",
              "      <td>0.2</td>\n",
              "      <td>1</td>\n",
              "      <td>0</td>\n",
              "      <td>0</td>\n",
              "    </tr>\n",
              "    <tr>\n",
              "      <th>1</th>\n",
              "      <td>4.9</td>\n",
              "      <td>3.0</td>\n",
              "      <td>1.4</td>\n",
              "      <td>0.2</td>\n",
              "      <td>1</td>\n",
              "      <td>0</td>\n",
              "      <td>0</td>\n",
              "    </tr>\n",
              "    <tr>\n",
              "      <th>2</th>\n",
              "      <td>4.7</td>\n",
              "      <td>3.2</td>\n",
              "      <td>1.3</td>\n",
              "      <td>0.2</td>\n",
              "      <td>1</td>\n",
              "      <td>0</td>\n",
              "      <td>0</td>\n",
              "    </tr>\n",
              "    <tr>\n",
              "      <th>3</th>\n",
              "      <td>4.6</td>\n",
              "      <td>3.1</td>\n",
              "      <td>1.5</td>\n",
              "      <td>0.2</td>\n",
              "      <td>1</td>\n",
              "      <td>0</td>\n",
              "      <td>0</td>\n",
              "    </tr>\n",
              "    <tr>\n",
              "      <th>4</th>\n",
              "      <td>5.0</td>\n",
              "      <td>3.6</td>\n",
              "      <td>1.4</td>\n",
              "      <td>0.2</td>\n",
              "      <td>1</td>\n",
              "      <td>0</td>\n",
              "      <td>0</td>\n",
              "    </tr>\n",
              "    <tr>\n",
              "      <th>...</th>\n",
              "      <td>...</td>\n",
              "      <td>...</td>\n",
              "      <td>...</td>\n",
              "      <td>...</td>\n",
              "      <td>...</td>\n",
              "      <td>...</td>\n",
              "      <td>...</td>\n",
              "    </tr>\n",
              "    <tr>\n",
              "      <th>145</th>\n",
              "      <td>6.7</td>\n",
              "      <td>3.0</td>\n",
              "      <td>5.2</td>\n",
              "      <td>2.3</td>\n",
              "      <td>0</td>\n",
              "      <td>0</td>\n",
              "      <td>1</td>\n",
              "    </tr>\n",
              "    <tr>\n",
              "      <th>146</th>\n",
              "      <td>6.3</td>\n",
              "      <td>2.5</td>\n",
              "      <td>5.0</td>\n",
              "      <td>1.9</td>\n",
              "      <td>0</td>\n",
              "      <td>0</td>\n",
              "      <td>1</td>\n",
              "    </tr>\n",
              "    <tr>\n",
              "      <th>147</th>\n",
              "      <td>6.5</td>\n",
              "      <td>3.0</td>\n",
              "      <td>5.2</td>\n",
              "      <td>2.0</td>\n",
              "      <td>0</td>\n",
              "      <td>0</td>\n",
              "      <td>1</td>\n",
              "    </tr>\n",
              "    <tr>\n",
              "      <th>148</th>\n",
              "      <td>6.2</td>\n",
              "      <td>3.4</td>\n",
              "      <td>5.4</td>\n",
              "      <td>2.3</td>\n",
              "      <td>0</td>\n",
              "      <td>0</td>\n",
              "      <td>1</td>\n",
              "    </tr>\n",
              "    <tr>\n",
              "      <th>149</th>\n",
              "      <td>5.9</td>\n",
              "      <td>3.0</td>\n",
              "      <td>5.1</td>\n",
              "      <td>1.8</td>\n",
              "      <td>0</td>\n",
              "      <td>0</td>\n",
              "      <td>1</td>\n",
              "    </tr>\n",
              "  </tbody>\n",
              "</table>\n",
              "<p>150 rows × 7 columns</p>\n",
              "</div>"
            ],
            "text/plain": [
              "     SepalLength   SepalWidth  ...   Class_Iris-versicolor   Class_Iris-virginica\n",
              "0            5.1          3.5  ...                       0                      0\n",
              "1            4.9          3.0  ...                       0                      0\n",
              "2            4.7          3.2  ...                       0                      0\n",
              "3            4.6          3.1  ...                       0                      0\n",
              "4            5.0          3.6  ...                       0                      0\n",
              "..           ...          ...  ...                     ...                    ...\n",
              "145          6.7          3.0  ...                       0                      1\n",
              "146          6.3          2.5  ...                       0                      1\n",
              "147          6.5          3.0  ...                       0                      1\n",
              "148          6.2          3.4  ...                       0                      1\n",
              "149          5.9          3.0  ...                       0                      1\n",
              "\n",
              "[150 rows x 7 columns]"
            ]
          },
          "metadata": {
            "tags": []
          },
          "execution_count": 10
        }
      ]
    },
    {
      "cell_type": "markdown",
      "metadata": {
        "id": "b66xhQrDng6V"
      },
      "source": [
        "######Shuffle Data : "
      ]
    },
    {
      "cell_type": "code",
      "metadata": {
        "id": "U95uwstFnjxy"
      },
      "source": [
        "df = df.sample(frac=1)"
      ],
      "execution_count": null,
      "outputs": []
    },
    {
      "cell_type": "code",
      "metadata": {
        "colab": {
          "base_uri": "https://localhost:8080/",
          "height": 461
        },
        "id": "VFqF22L2nw2U",
        "outputId": "3a8e5766-6730-452f-fc7a-48c6d4fe4fda"
      },
      "source": [
        "df"
      ],
      "execution_count": null,
      "outputs": [
        {
          "output_type": "execute_result",
          "data": {
            "text/html": [
              "<div>\n",
              "<style scoped>\n",
              "    .dataframe tbody tr th:only-of-type {\n",
              "        vertical-align: middle;\n",
              "    }\n",
              "\n",
              "    .dataframe tbody tr th {\n",
              "        vertical-align: top;\n",
              "    }\n",
              "\n",
              "    .dataframe thead th {\n",
              "        text-align: right;\n",
              "    }\n",
              "</style>\n",
              "<table border=\"1\" class=\"dataframe\">\n",
              "  <thead>\n",
              "    <tr style=\"text-align: right;\">\n",
              "      <th></th>\n",
              "      <th>SepalLength</th>\n",
              "      <th>SepalWidth</th>\n",
              "      <th>PetalLength</th>\n",
              "      <th>PetalWidth</th>\n",
              "      <th>Class_Iris-setosa</th>\n",
              "      <th>Class_Iris-versicolor</th>\n",
              "      <th>Class_Iris-virginica</th>\n",
              "    </tr>\n",
              "  </thead>\n",
              "  <tbody>\n",
              "    <tr>\n",
              "      <th>144</th>\n",
              "      <td>6.7</td>\n",
              "      <td>3.3</td>\n",
              "      <td>5.7</td>\n",
              "      <td>2.5</td>\n",
              "      <td>0</td>\n",
              "      <td>0</td>\n",
              "      <td>1</td>\n",
              "    </tr>\n",
              "    <tr>\n",
              "      <th>48</th>\n",
              "      <td>5.3</td>\n",
              "      <td>3.7</td>\n",
              "      <td>1.5</td>\n",
              "      <td>0.2</td>\n",
              "      <td>1</td>\n",
              "      <td>0</td>\n",
              "      <td>0</td>\n",
              "    </tr>\n",
              "    <tr>\n",
              "      <th>5</th>\n",
              "      <td>5.4</td>\n",
              "      <td>3.9</td>\n",
              "      <td>1.7</td>\n",
              "      <td>0.4</td>\n",
              "      <td>1</td>\n",
              "      <td>0</td>\n",
              "      <td>0</td>\n",
              "    </tr>\n",
              "    <tr>\n",
              "      <th>82</th>\n",
              "      <td>5.8</td>\n",
              "      <td>2.7</td>\n",
              "      <td>3.9</td>\n",
              "      <td>1.2</td>\n",
              "      <td>0</td>\n",
              "      <td>1</td>\n",
              "      <td>0</td>\n",
              "    </tr>\n",
              "    <tr>\n",
              "      <th>45</th>\n",
              "      <td>4.8</td>\n",
              "      <td>3.0</td>\n",
              "      <td>1.4</td>\n",
              "      <td>0.3</td>\n",
              "      <td>1</td>\n",
              "      <td>0</td>\n",
              "      <td>0</td>\n",
              "    </tr>\n",
              "    <tr>\n",
              "      <th>...</th>\n",
              "      <td>...</td>\n",
              "      <td>...</td>\n",
              "      <td>...</td>\n",
              "      <td>...</td>\n",
              "      <td>...</td>\n",
              "      <td>...</td>\n",
              "      <td>...</td>\n",
              "    </tr>\n",
              "    <tr>\n",
              "      <th>53</th>\n",
              "      <td>5.5</td>\n",
              "      <td>2.3</td>\n",
              "      <td>4.0</td>\n",
              "      <td>1.3</td>\n",
              "      <td>0</td>\n",
              "      <td>1</td>\n",
              "      <td>0</td>\n",
              "    </tr>\n",
              "    <tr>\n",
              "      <th>88</th>\n",
              "      <td>5.6</td>\n",
              "      <td>3.0</td>\n",
              "      <td>4.1</td>\n",
              "      <td>1.3</td>\n",
              "      <td>0</td>\n",
              "      <td>1</td>\n",
              "      <td>0</td>\n",
              "    </tr>\n",
              "    <tr>\n",
              "      <th>76</th>\n",
              "      <td>6.8</td>\n",
              "      <td>2.8</td>\n",
              "      <td>4.8</td>\n",
              "      <td>1.4</td>\n",
              "      <td>0</td>\n",
              "      <td>1</td>\n",
              "      <td>0</td>\n",
              "    </tr>\n",
              "    <tr>\n",
              "      <th>0</th>\n",
              "      <td>5.1</td>\n",
              "      <td>3.5</td>\n",
              "      <td>1.4</td>\n",
              "      <td>0.2</td>\n",
              "      <td>1</td>\n",
              "      <td>0</td>\n",
              "      <td>0</td>\n",
              "    </tr>\n",
              "    <tr>\n",
              "      <th>67</th>\n",
              "      <td>5.8</td>\n",
              "      <td>2.7</td>\n",
              "      <td>4.1</td>\n",
              "      <td>1.0</td>\n",
              "      <td>0</td>\n",
              "      <td>1</td>\n",
              "      <td>0</td>\n",
              "    </tr>\n",
              "  </tbody>\n",
              "</table>\n",
              "<p>150 rows × 7 columns</p>\n",
              "</div>"
            ],
            "text/plain": [
              "     SepalLength   SepalWidth  ...   Class_Iris-versicolor   Class_Iris-virginica\n",
              "144          6.7          3.3  ...                       0                      1\n",
              "48           5.3          3.7  ...                       0                      0\n",
              "5            5.4          3.9  ...                       0                      0\n",
              "82           5.8          2.7  ...                       1                      0\n",
              "45           4.8          3.0  ...                       0                      0\n",
              "..           ...          ...  ...                     ...                    ...\n",
              "53           5.5          2.3  ...                       1                      0\n",
              "88           5.6          3.0  ...                       1                      0\n",
              "76           6.8          2.8  ...                       1                      0\n",
              "0            5.1          3.5  ...                       0                      0\n",
              "67           5.8          2.7  ...                       1                      0\n",
              "\n",
              "[150 rows x 7 columns]"
            ]
          },
          "metadata": {
            "tags": []
          },
          "execution_count": 12
        }
      ]
    },
    {
      "cell_type": "markdown",
      "metadata": {
        "id": "2HTLqAagoC-0"
      },
      "source": [
        "#####Separate dependent & non dependent variables:"
      ]
    },
    {
      "cell_type": "code",
      "metadata": {
        "id": "txzv2nBXoIVP"
      },
      "source": [
        "X = df.values[:,:4]\n",
        "y = df.values[:,4:7]"
      ],
      "execution_count": null,
      "outputs": []
    },
    {
      "cell_type": "code",
      "metadata": {
        "colab": {
          "base_uri": "https://localhost:8080/"
        },
        "id": "lIVOScLqoZ-3",
        "outputId": "2af359b0-f7d7-40d5-f35c-9cb26a4c3ceb"
      },
      "source": [
        "X[0]"
      ],
      "execution_count": null,
      "outputs": [
        {
          "output_type": "execute_result",
          "data": {
            "text/plain": [
              "array([0.97468354, 0.35443038, 0.84810127, 0.25316456])"
            ]
          },
          "metadata": {
            "tags": []
          },
          "execution_count": 36
        }
      ]
    },
    {
      "cell_type": "markdown",
      "metadata": {
        "id": "Thxde7WKojbd"
      },
      "source": [
        "##### Normalize Input Values :"
      ]
    },
    {
      "cell_type": "code",
      "metadata": {
        "colab": {
          "base_uri": "https://localhost:8080/"
        },
        "id": "y8m7fu0Zonv7",
        "outputId": "9c744879-1456-43eb-eef0-d0f087fcf47b"
      },
      "source": [
        "X = X/X.max()\n",
        "X[0]"
      ],
      "execution_count": null,
      "outputs": [
        {
          "output_type": "execute_result",
          "data": {
            "text/plain": [
              "array([0.72151899, 0.37974684, 0.53164557, 0.15189873])"
            ]
          },
          "metadata": {
            "tags": []
          },
          "execution_count": 7
        }
      ]
    },
    {
      "cell_type": "markdown",
      "metadata": {
        "id": "WWJrdRV_o5Ih"
      },
      "source": [
        "#####Split Train and Test data:"
      ]
    },
    {
      "cell_type": "code",
      "metadata": {
        "id": "hfpkC57vo8am"
      },
      "source": [
        "X_train, X_test, y_train, y_test = train_test_split(X, y)"
      ],
      "execution_count": null,
      "outputs": []
    },
    {
      "cell_type": "markdown",
      "metadata": {
        "id": "iin3Sr9MpSrb"
      },
      "source": [
        "#Genetic Algorithm"
      ]
    },
    {
      "cell_type": "code",
      "metadata": {
        "id": "sqrc2D02szB2"
      },
      "source": [
        "class GA:\n",
        "  \n",
        "  def __init__(self, classes=3, num_variables=4,\n",
        "               crossover_rate= 0.5, mutation_rate=0.5,\n",
        "               population_size= 100,\n",
        "               epochs=10):\n",
        "    np.random.seed(0)\n",
        "    self.classes = 3\n",
        "    self.num_variables = num_variables\n",
        "    self.crossover_rate = crossover_rate\n",
        "    self.mutation_rate = mutation_rate\n",
        "    self.population_size = population_size\n",
        "    self.epochs = epochs\n",
        "\n",
        "  #We create random chromosomes encoded as 12 value and 4 binary mask\n",
        "  def create_population(self, n=None):\n",
        "    if n is None:\n",
        "      n = self.population_size\n",
        "    population = []\n",
        "    \n",
        "    for _ in range(n):\n",
        "      wts = np.random.random(self.num_variables*self.classes)\n",
        "      mask = np.round(np.random.random(self.num_variables))\n",
        "      gene = wts.tolist()+mask.tolist()\n",
        "      population.append(gene)\n",
        "    return population\n",
        "  \n",
        "  def pred_labels(self, chromosome, X):\n",
        "    labels = []\n",
        "    #size of weights\n",
        "    split_pt = self.num_variables * self.classes\n",
        "    #shape of weisghts\n",
        "    wt_shape = (self.classes, self.num_variables)\n",
        "\n",
        "    #reshape the population (:,4)\n",
        "    wt, mask = (np.array(chromosome[:split_pt]).reshape(wt_shape),\n",
        "                np.array(chromosome[split_pt:]).reshape(1, self.num_variables))\n",
        "    #wt is a shape of (3,4) and mask (1,4), pt(1,4) is each line of training data\n",
        "    #The idea is to compute the product of each wt which correspond to\n",
        "    #vector of population with its mask and the vector of train data.\n",
        "    #will sum the resulting vectors to get three vectors\n",
        "    #then we'll take the index of the maximum of the vectors and assign it\n",
        "    # to labels\n",
        "\n",
        "    for pt in X:\n",
        "      pt= np.array(pt)\n",
        "      result = (wt * mask * pt)\n",
        "      result = result.sum(axis=1)\n",
        "      r=np.zeros(self.classes)\n",
        "      r[result.argmax()] = 1\n",
        "      labels.append(r)\n",
        "    return labels\n",
        "\n",
        "\n",
        "  def fitness(self, chromosome, X, y):\n",
        "    #for each line of population we'll calculate the predicted\n",
        "    #label, then calculate the score by substructing the prediction\n",
        "    #and real value then subtruct it from two times lenth of data\n",
        "    #and divide it from the double length since we have predicted and real\n",
        "    #labels\n",
        "    #for each line of y we calculate the score then we get a list of scores\n",
        "      y_pred = self.pred_labels(chromosome, X)\n",
        "      max_score = (2*len(X))\n",
        "      score = (max_score-abs(y_pred - y).sum())/max_score\n",
        "      return score\n",
        "\n",
        "  def selection(self, population, score):\n",
        "    score = np.array(score)\n",
        "    prob = score/score.sum()\n",
        "    #Selection will be made by roulette algorithm, the idea is to get\n",
        "    #different index randomly based on the scores.\n",
        "    \n",
        "    #we have a population of size n, so we first take an list of (1..n)\n",
        "    #to get indexes of the population.\n",
        "    #and select randomly indexes, and more the probability more the index\n",
        "    #will be picked.\n",
        "    #now we'll select the population based of the indexes\n",
        "    idx = np.random.choice(np.arange(self.population_size), self.population_size, True, prob)\n",
        "    selected_population = [population[i] for i in idx]\n",
        "    return selected_population\n",
        "\n",
        "  def crossover(self, population, current_population, fitness_score):\n",
        "    #sort the population according to the fitness:\n",
        "    #we get the indexes of the fittest\n",
        "    fittest_idx = np.array(fitness_score).argsort()\n",
        "    #we sort population according to indexes of fittest:\n",
        "    sorted_current_population = [current_population[i] for i in fittest_idx[::-1]]\n",
        "    crossover_population = []\n",
        "\n",
        "    pairs = np.random.randint(0, self.population_size,(self.population_size,2))\n",
        "    #if random number is less than the crossover_rate, we pick randomly chromosomes the population\n",
        "    for i, j in pairs:\n",
        "      x= np.random.random()\n",
        "      if x< self.crossover_rate:\n",
        "        rand_indx = np.random.randint(0, self.classes*self.num_variables + self.num_variables)\n",
        "        p1 = population[i]\n",
        "        p2 = population[j]\n",
        "        child = p1[:rand_indx] + p2[rand_indx:]\n",
        "    #ELSE, we pick the fittest chromosome\n",
        "      else:\n",
        "        child = sorted_current_population.pop(0)\n",
        "    \n",
        "      crossover_population.append(child)\n",
        "    return crossover_population\n",
        "  \n",
        "  def run_mutation(self, population):\n",
        "    #since w've a num_var*num_classes value of pop and num_var of masks then:\n",
        "    split_pt = self.num_variables * self.classes\n",
        "    chromosome_len = len(population[0])\n",
        "\n",
        "    mutated_pop = []\n",
        "    for chromosome in population:\n",
        "      if np.random.random() < self.mutation_rate:\n",
        "        rand_indx_val = np.random.randint(0, split_pt)\n",
        "        rand_indx_mask = np.random.randint(split_pt, chromosome_len)\n",
        "        #we randomly change the value of a chromosome:\n",
        "        chromosome[rand_indx_val] = np.random.random()\n",
        "        #we split the mask value since it's binary:\n",
        "        if chromosome[rand_indx_mask] == 1:\n",
        "          chromosome[rand_indx_mask] = 0\n",
        "        else :\n",
        "          chromosome[rand_indx_mask] = 1\n",
        "      mutated_pop.append(chromosome)\n",
        "    return mutated_pop\n",
        "\n",
        "  def ga_run(self, X, y):\n",
        "\n",
        "    #we create the initial population based on the population size and the function defined before:\n",
        "    pop = self.create_population()\n",
        "\n",
        "    #we compute the fitness:\n",
        "    fitness_score = [self.fitness(_, X, y) for _ in pop]\n",
        "    \n",
        "    best_fitness = 0\n",
        "    best_solution = None\n",
        "    current_population = pop.copy()\n",
        "    \n",
        "    for _ in range(self.epochs):\n",
        "      selected_pop = self.selection(current_population, fitness_score)\n",
        "      crossover_pop = self.crossover(pop, selected_pop, fitness_score)\n",
        "      mutated_pop = self.run_mutation(crossover_pop)\n",
        "\n",
        "      fitness_score = [self.fitness(_, X, y) for _ in mutated_pop]\n",
        "      best_sol_idx = np.array(fitness_score).argmax()\n",
        "      cur_best_solution = mutated_pop[best_sol_idx]\n",
        "      cur_best_fitness = fitness_score[best_sol_idx]\n",
        "\n",
        "      print(f'Best solution for generation <{_}>: {cur_best_fitness}')\n",
        "\n",
        "      if cur_best_fitness > best_fitness:\n",
        "        best_fitness = cur_best_fitness\n",
        "        best_solution = cur_best_solution\n",
        "\n",
        "      if best_fitness == 1:\n",
        "        break\n",
        "    print(\"*****************************************\")\n",
        "    print(f\"***Best fitness : <{best_fitness}>***\")\n",
        "    return best_fitness, best_solution\n"
      ],
      "execution_count": null,
      "outputs": []
    },
    {
      "cell_type": "markdown",
      "metadata": {
        "id": "oEyQ2RBSTqxJ"
      },
      "source": [
        "Test:"
      ]
    },
    {
      "cell_type": "code",
      "metadata": {
        "colab": {
          "base_uri": "https://localhost:8080/"
        },
        "id": "6G_6XSVkpXYO",
        "outputId": "6d527fb0-fae2-411b-f971-9ac537e8ae85"
      },
      "source": [
        "ga = GA(population_size=10, epochs=20, mutation_rate=0.5)\n",
        "population_size = 10\n",
        "pop = ga.create_population(population_size)\n",
        "fitness_score = [ga.fitness(_, X_train, y_train) for _ in pop]\n",
        "c_pop = pop.copy()\n",
        "selected_pop = ga.selection(c_pop, fitness_score)\n",
        "crossover = ga.crossover(pop, selected_pop, fitness_score)\n",
        "mutation = ga.run_mutation(crossover)\n",
        "best_fitness, best_solution = ga.ga_run(X_train, y_train)"
      ],
      "execution_count": null,
      "outputs": [
        {
          "output_type": "stream",
          "text": [
            "Best solution for generation <0>: 0.3392857142857143\n",
            "Best solution for generation <1>: 0.3392857142857143\n",
            "Best solution for generation <2>: 0.3392857142857143\n",
            "Best solution for generation <3>: 0.3392857142857143\n",
            "Best solution for generation <4>: 0.3392857142857143\n",
            "Best solution for generation <5>: 0.3392857142857143\n",
            "Best solution for generation <6>: 0.3392857142857143\n",
            "Best solution for generation <7>: 0.3392857142857143\n",
            "Best solution for generation <8>: 0.3392857142857143\n",
            "Best solution for generation <9>: 0.3392857142857143\n",
            "Best solution for generation <10>: 0.3392857142857143\n",
            "Best solution for generation <11>: 0.3392857142857143\n",
            "Best solution for generation <12>: 0.3392857142857143\n",
            "Best solution for generation <13>: 0.33035714285714285\n",
            "Best solution for generation <14>: 0.3392857142857143\n",
            "Best solution for generation <15>: 0.3392857142857143\n",
            "Best solution for generation <16>: 0.3392857142857143\n",
            "Best solution for generation <17>: 0.6696428571428571\n",
            "Best solution for generation <18>: 0.3392857142857143\n",
            "Best solution for generation <19>: 0.3392857142857143\n",
            "*****************************************\n",
            "***Best fitness : <0.6696428571428571>***\n"
          ],
          "name": "stdout"
        }
      ]
    },
    {
      "cell_type": "code",
      "metadata": {
        "id": "TKDUNaXiFnmU",
        "colab": {
          "base_uri": "https://localhost:8080/"
        },
        "outputId": "d317e040-869a-48fd-dda3-46c78a713b77"
      },
      "source": [
        "predicted_labels = np.array(ga.pred_labels(best_solution, X_test)).argmax(axis=1)\r\n",
        "predicted_labels"
      ],
      "execution_count": null,
      "outputs": [
        {
          "output_type": "execute_result",
          "data": {
            "text/plain": [
              "array([0, 2, 2, 2, 0, 0, 0, 2, 2, 2, 2, 2, 2, 0, 0, 0, 2, 2, 2, 2, 2, 0,\n",
              "       2, 2, 0, 0, 0, 0, 0, 0, 2, 0, 0, 0, 2, 2, 0, 2])"
            ]
          },
          "metadata": {
            "tags": []
          },
          "execution_count": 99
        }
      ]
    },
    {
      "cell_type": "code",
      "metadata": {
        "id": "5S9FPG3tMK3c",
        "colab": {
          "base_uri": "https://localhost:8080/"
        },
        "outputId": "6c1efa85-881e-4887-d7b0-542687dbb316"
      },
      "source": [
        "np.array(y_test).argmax(axis=1)"
      ],
      "execution_count": null,
      "outputs": [
        {
          "output_type": "execute_result",
          "data": {
            "text/plain": [
              "array([1, 2, 2, 2, 1, 0, 0, 2, 2, 2, 1, 2, 2, 0, 1, 0, 2, 2, 1, 2, 2, 0,\n",
              "       2, 1, 0, 1, 0, 0, 1, 1, 1, 0, 0, 0, 1, 1, 0, 1])"
            ]
          },
          "metadata": {
            "tags": []
          },
          "execution_count": 101
        }
      ]
    },
    {
      "cell_type": "markdown",
      "metadata": {
        "id": "4PVnYKKkTu3H"
      },
      "source": [
        "#Application of the class GA:"
      ]
    },
    {
      "cell_type": "code",
      "metadata": {
        "colab": {
          "base_uri": "https://localhost:8080/"
        },
        "id": "B0nbAVdGT0wS",
        "outputId": "e12cd05b-1c9a-4a7b-f350-829f483fb1e3"
      },
      "source": [
        "ga = GA(population_size=150, epochs= 150, mutation_rate= 0.4, crossover_rate= 0.6)\r\n",
        "\r\n",
        "best_fitness, best_solution = ga.ga_run(X_train, y_train)"
      ],
      "execution_count": null,
      "outputs": [
        {
          "output_type": "stream",
          "text": [
            "Best solution for generation <0>: 0.6696428571428571\n",
            "Best solution for generation <1>: 0.6696428571428571\n",
            "Best solution for generation <2>: 0.6071428571428571\n",
            "Best solution for generation <3>: 0.6696428571428571\n",
            "Best solution for generation <4>: 0.6696428571428571\n",
            "Best solution for generation <5>: 0.6696428571428571\n",
            "Best solution for generation <6>: 0.6428571428571429\n",
            "Best solution for generation <7>: 0.6696428571428571\n",
            "Best solution for generation <8>: 0.6696428571428571\n",
            "Best solution for generation <9>: 0.6696428571428571\n",
            "Best solution for generation <10>: 0.6696428571428571\n",
            "Best solution for generation <11>: 0.7589285714285714\n",
            "Best solution for generation <12>: 0.6785714285714286\n",
            "Best solution for generation <13>: 0.6696428571428571\n",
            "Best solution for generation <14>: 0.6696428571428571\n",
            "Best solution for generation <15>: 0.6696428571428571\n",
            "Best solution for generation <16>: 0.6696428571428571\n",
            "Best solution for generation <17>: 0.6696428571428571\n",
            "Best solution for generation <18>: 0.6696428571428571\n",
            "Best solution for generation <19>: 0.6696428571428571\n",
            "Best solution for generation <20>: 0.6696428571428571\n",
            "Best solution for generation <21>: 0.6696428571428571\n",
            "Best solution for generation <22>: 0.7321428571428571\n",
            "Best solution for generation <23>: 0.6696428571428571\n",
            "Best solution for generation <24>: 0.6696428571428571\n",
            "Best solution for generation <25>: 0.6696428571428571\n",
            "Best solution for generation <26>: 0.6696428571428571\n",
            "Best solution for generation <27>: 0.6696428571428571\n",
            "Best solution for generation <28>: 0.6696428571428571\n",
            "Best solution for generation <29>: 0.6696428571428571\n",
            "Best solution for generation <30>: 0.6696428571428571\n",
            "Best solution for generation <31>: 0.7857142857142857\n",
            "Best solution for generation <32>: 0.6696428571428571\n",
            "Best solution for generation <33>: 0.6696428571428571\n",
            "Best solution for generation <34>: 0.6517857142857143\n",
            "Best solution for generation <35>: 0.6696428571428571\n",
            "Best solution for generation <36>: 0.6696428571428571\n",
            "Best solution for generation <37>: 0.6696428571428571\n",
            "Best solution for generation <38>: 0.6696428571428571\n",
            "Best solution for generation <39>: 0.6696428571428571\n",
            "Best solution for generation <40>: 0.6696428571428571\n",
            "Best solution for generation <41>: 0.6696428571428571\n",
            "Best solution for generation <42>: 0.8928571428571429\n",
            "Best solution for generation <43>: 0.8928571428571429\n",
            "Best solution for generation <44>: 0.8928571428571429\n",
            "Best solution for generation <45>: 0.6696428571428571\n",
            "Best solution for generation <46>: 0.8928571428571429\n",
            "Best solution for generation <47>: 0.6696428571428571\n",
            "Best solution for generation <48>: 0.6696428571428571\n",
            "Best solution for generation <49>: 0.6696428571428571\n",
            "Best solution for generation <50>: 0.9107142857142857\n",
            "Best solution for generation <51>: 0.9107142857142857\n",
            "Best solution for generation <52>: 0.6696428571428571\n",
            "Best solution for generation <53>: 0.9107142857142857\n",
            "Best solution for generation <54>: 0.6785714285714286\n",
            "Best solution for generation <55>: 0.7142857142857143\n",
            "Best solution for generation <56>: 0.6428571428571429\n",
            "Best solution for generation <57>: 0.6696428571428571\n",
            "Best solution for generation <58>: 0.6696428571428571\n",
            "Best solution for generation <59>: 0.6428571428571429\n",
            "Best solution for generation <60>: 0.9107142857142857\n",
            "Best solution for generation <61>: 0.6696428571428571\n",
            "Best solution for generation <62>: 0.6696428571428571\n",
            "Best solution for generation <63>: 0.6696428571428571\n",
            "Best solution for generation <64>: 0.6696428571428571\n",
            "Best solution for generation <65>: 0.6696428571428571\n",
            "Best solution for generation <66>: 0.6696428571428571\n",
            "Best solution for generation <67>: 0.6696428571428571\n",
            "Best solution for generation <68>: 0.6696428571428571\n",
            "Best solution for generation <69>: 0.6696428571428571\n",
            "Best solution for generation <70>: 0.6696428571428571\n",
            "Best solution for generation <71>: 0.7767857142857143\n",
            "Best solution for generation <72>: 0.6696428571428571\n",
            "Best solution for generation <73>: 0.625\n",
            "Best solution for generation <74>: 0.6696428571428571\n",
            "Best solution for generation <75>: 0.6696428571428571\n",
            "Best solution for generation <76>: 0.6696428571428571\n",
            "Best solution for generation <77>: 0.6517857142857143\n",
            "Best solution for generation <78>: 0.6696428571428571\n",
            "Best solution for generation <79>: 0.6696428571428571\n",
            "Best solution for generation <80>: 0.6696428571428571\n",
            "Best solution for generation <81>: 0.6696428571428571\n",
            "Best solution for generation <82>: 0.6696428571428571\n",
            "Best solution for generation <83>: 0.6517857142857143\n",
            "Best solution for generation <84>: 0.6696428571428571\n",
            "Best solution for generation <85>: 0.6696428571428571\n",
            "Best solution for generation <86>: 0.6696428571428571\n",
            "Best solution for generation <87>: 0.6696428571428571\n",
            "Best solution for generation <88>: 0.6696428571428571\n",
            "Best solution for generation <89>: 0.6696428571428571\n",
            "Best solution for generation <90>: 0.6696428571428571\n",
            "Best solution for generation <91>: 0.6696428571428571\n",
            "Best solution for generation <92>: 0.6696428571428571\n",
            "Best solution for generation <93>: 0.6696428571428571\n",
            "Best solution for generation <94>: 0.6696428571428571\n",
            "Best solution for generation <95>: 0.6696428571428571\n",
            "Best solution for generation <96>: 0.6696428571428571\n",
            "Best solution for generation <97>: 0.6607142857142857\n",
            "Best solution for generation <98>: 0.6696428571428571\n",
            "Best solution for generation <99>: 0.6696428571428571\n",
            "Best solution for generation <100>: 0.6696428571428571\n",
            "Best solution for generation <101>: 0.6696428571428571\n",
            "Best solution for generation <102>: 0.6696428571428571\n",
            "Best solution for generation <103>: 0.6696428571428571\n",
            "Best solution for generation <104>: 0.6696428571428571\n",
            "Best solution for generation <105>: 0.6696428571428571\n",
            "Best solution for generation <106>: 0.6696428571428571\n",
            "Best solution for generation <107>: 0.6696428571428571\n",
            "Best solution for generation <108>: 0.6696428571428571\n",
            "Best solution for generation <109>: 0.6696428571428571\n",
            "Best solution for generation <110>: 0.6696428571428571\n",
            "Best solution for generation <111>: 0.6696428571428571\n",
            "Best solution for generation <112>: 0.6696428571428571\n",
            "Best solution for generation <113>: 0.6696428571428571\n",
            "Best solution for generation <114>: 0.6517857142857143\n",
            "Best solution for generation <115>: 0.4642857142857143\n",
            "Best solution for generation <116>: 0.6696428571428571\n",
            "Best solution for generation <117>: 0.6696428571428571\n",
            "Best solution for generation <118>: 0.6428571428571429\n",
            "Best solution for generation <119>: 0.6696428571428571\n",
            "Best solution for generation <120>: 0.6696428571428571\n",
            "Best solution for generation <121>: 0.6696428571428571\n",
            "Best solution for generation <122>: 0.6696428571428571\n",
            "Best solution for generation <123>: 0.6696428571428571\n",
            "Best solution for generation <124>: 0.6696428571428571\n",
            "Best solution for generation <125>: 0.6696428571428571\n",
            "Best solution for generation <126>: 0.6607142857142857\n",
            "Best solution for generation <127>: 0.6696428571428571\n",
            "Best solution for generation <128>: 0.6696428571428571\n",
            "Best solution for generation <129>: 0.6696428571428571\n",
            "Best solution for generation <130>: 0.6696428571428571\n",
            "Best solution for generation <131>: 0.6607142857142857\n",
            "Best solution for generation <132>: 0.6964285714285714\n",
            "Best solution for generation <133>: 0.6964285714285714\n",
            "Best solution for generation <134>: 0.6696428571428571\n",
            "Best solution for generation <135>: 0.6517857142857143\n",
            "Best solution for generation <136>: 0.7857142857142857\n",
            "Best solution for generation <137>: 0.6517857142857143\n",
            "Best solution for generation <138>: 0.6696428571428571\n",
            "Best solution for generation <139>: 0.6696428571428571\n",
            "Best solution for generation <140>: 0.6696428571428571\n",
            "Best solution for generation <141>: 0.6696428571428571\n",
            "Best solution for generation <142>: 0.8214285714285714\n",
            "Best solution for generation <143>: 0.6696428571428571\n",
            "Best solution for generation <144>: 0.6696428571428571\n",
            "Best solution for generation <145>: 0.6696428571428571\n",
            "Best solution for generation <146>: 0.6696428571428571\n",
            "Best solution for generation <147>: 0.6696428571428571\n",
            "Best solution for generation <148>: 0.6696428571428571\n",
            "Best solution for generation <149>: 0.6696428571428571\n",
            "*****************************************\n",
            "***Best fitness : <0.9107142857142857>***\n"
          ],
          "name": "stdout"
        }
      ]
    },
    {
      "cell_type": "code",
      "metadata": {
        "id": "kxg0NQSAUozs"
      },
      "source": [
        "pred = ga.pred_labels(best_solution, X_test)\r\n",
        "predicted_labels = np.array(pred).argmax(axis=1)"
      ],
      "execution_count": null,
      "outputs": []
    },
    {
      "cell_type": "markdown",
      "metadata": {
        "id": "mA6JUFXxUwCl"
      },
      "source": [
        "#Confusion matrix:"
      ]
    },
    {
      "cell_type": "code",
      "metadata": {
        "colab": {
          "base_uri": "https://localhost:8080/",
          "height": 318
        },
        "id": "8NlXtYidU1oY",
        "outputId": "539cf52e-3453-472c-e22c-2ea0fe43843b"
      },
      "source": [
        "o = ['setosa', 'versicolor', 'virginica']\r\n",
        "cm = confusion_matrix(predicted_labels, np.array(y_test).argmax(axis=1))\r\n",
        "ConfusionMatrixDisplay(cm, o).plot()"
      ],
      "execution_count": null,
      "outputs": [
        {
          "output_type": "execute_result",
          "data": {
            "text/plain": [
              "<sklearn.metrics._plot.confusion_matrix.ConfusionMatrixDisplay at 0x7f6adefb14e0>"
            ]
          },
          "metadata": {
            "tags": []
          },
          "execution_count": 114
        },
        {
          "output_type": "display_data",
          "data": {
            "image/png": "[encoded data removed]",
            "text/plain": [
              "<Figure size 432x288 with 2 Axes>"
            ]
          },
          "metadata": {
            "tags": [],
            "needs_background": "light"
          }
        }
      ]
    },
    {
      "cell_type": "markdown",
      "metadata": {
        "id": "ZB697iqVVPwy"
      },
      "source": [
        "#ROC:"
      ]
    },
    {
      "cell_type": "code",
      "metadata": {
        "colab": {
          "base_uri": "https://localhost:8080/",
          "height": 314
        },
        "id": "GwmOzhqaVRuv",
        "outputId": "767f04fe-554a-4021-eee1-d1622ffaebc6"
      },
      "source": [
        "n_classes=len(y_test[0])\r\n",
        "lw=2\r\n",
        "y_test = np.array(y_test)\r\n",
        "pred = np.array(pred)\r\n",
        "# Compute ROC curve and ROC area for each class\r\n",
        "fpr = dict()\r\n",
        "tpr = dict()\r\n",
        "roc_auc = dict()\r\n",
        "for i in range(n_classes):\r\n",
        "    fpr[i], tpr[i], _ = roc_curve(y_test[:, i], pred[:, i])\r\n",
        "    roc_auc[i] = auc(fpr[i], tpr[i])\r\n",
        "\r\n",
        "colors = cycle(['aqua', 'darkorange', 'cornflowerblue'])\r\n",
        "for i, color in zip(range(n_classes), colors):\r\n",
        "    plt.plot(fpr[i], tpr[i], color=color, lw=lw,\r\n",
        "             label='ROC curve of class {0} (area = {1:0.2f})'\r\n",
        "             ''.format(i, roc_auc[i]))\r\n",
        "plt.xlabel(\"False Positive Rate\")\r\n",
        "plt.ylabel(\"True Positive Rate\")\r\n",
        "plt.legend(loc=\"best\")\r\n",
        "plt.title(\"ROC curve\")"
      ],
      "execution_count": null,
      "outputs": [
        {
          "output_type": "execute_result",
          "data": {
            "text/plain": [
              "Text(0.5, 1.0, 'ROC curve')"
            ]
          },
          "metadata": {
            "tags": []
          },
          "execution_count": 129
        },
        {
          "output_type": "display_data",
          "data": {
            "image/png": "[encoded data removed]",
            "text/plain": [
              "<Figure size 432x288 with 1 Axes>"
            ]
          },
          "metadata": {
            "tags": [],
            "needs_background": "light"
          }
        }
      ]
    },
    {
      "cell_type": "markdown",
      "metadata": {
        "id": "Ik4B-9f4WtOu"
      },
      "source": [
        "#Precision Recall:"
      ]
    },
    {
      "cell_type": "code",
      "metadata": {
        "colab": {
          "base_uri": "https://localhost:8080/",
          "height": 295
        },
        "id": "35eQNxkQWxWM",
        "outputId": "47fbd41a-e0d8-45f1-d179-c61018e83cfc"
      },
      "source": [
        "# Compute Precision & Recall for each class\r\n",
        "precision = dict()\r\n",
        "recall = dict()\r\n",
        "for i in range(n_classes):\r\n",
        "    precision[i], recall[i], _ = precision_recall_curve(y_test[:, i],\r\n",
        "                                                        pred[:, i])\r\n",
        "    plt.plot(recall[i], precision[i], lw=2, label='class {}'.format(i))\r\n",
        "    \r\n",
        "plt.xlabel(\"recall\")\r\n",
        "plt.ylabel(\"precision\")\r\n",
        "plt.legend(loc=\"best\")\r\n",
        "plt.title(\"precision vs. recall curve\")\r\n",
        "plt.show()"
      ],
      "execution_count": null,
      "outputs": [
        {
          "output_type": "display_data",
          "data": {
            "image/png": "[encoded data removed]",
            "text/plain": [
              "<Figure size 432x288 with 1 Axes>"
            ]
          },
          "metadata": {
            "tags": [],
            "needs_background": "light"
          }
        }
      ]
    }
  ]
}